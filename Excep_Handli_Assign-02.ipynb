{
 "cells": [
  {
   "cell_type": "code",
   "execution_count": 1,
   "id": "05e85b83-08f7-47bd-b1cf-716cf3cf6836",
   "metadata": {},
   "outputs": [],
   "source": [
    "#Q1. Explain why we have to use the Exception class while \n",
    "#creating a Custom Exception."
   ]
  },
  {
   "cell_type": "code",
   "execution_count": 2,
   "id": "5b348df3-9016-48a5-b910-f0a119f15fa6",
   "metadata": {},
   "outputs": [],
   "source": [
    "#custom exceptions will add information about project-related \n",
    "#problems. That way, you can design your code (and traceback, if\n",
    "#an exception is raised) in a way that combines Python code with\n",
    "#the language of the project."
   ]
  },
  {
   "cell_type": "code",
   "execution_count": 3,
   "id": "7fcfb370-15e6-4656-a90d-d6ae6ad63984",
   "metadata": {},
   "outputs": [],
   "source": [
    "#Q2. Write a python program to print Python Exception Hierarchy."
   ]
  },
  {
   "cell_type": "code",
   "execution_count": 4,
   "id": "05f2d832-a047-4f1c-8b87-0c7520060152",
   "metadata": {},
   "outputs": [],
   "source": [
    "# For printing the hierarchy for inbuilt exceptions:\n",
    "# First, we will import the inspect module.\n",
    "#import inspect as ipt.\n",
    "# Then we will create tree_class function.\n",
    "#def tree_class(cls, ind = 0):\n",
    "# Then we will print the name of the class.\n",
    "#print ('-' * ind, cls. __name__)\n",
    "# now, we will iterate through the subclasses."
   ]
  },
  {
   "cell_type": "code",
   "execution_count": 5,
   "id": "ec4dc178-4321-4c2d-9c14-743105bfa0f1",
   "metadata": {},
   "outputs": [],
   "source": [
    "#Q3. What errors are defined in the ArithmeticError class?\n",
    "#Explain any two with an example."
   ]
  },
  {
   "cell_type": "code",
   "execution_count": 6,
   "id": "13b3f128-316c-4743-be31-7a8462d3bc25",
   "metadata": {},
   "outputs": [],
   "source": [
    "#The arithmetic error occurs when an error is encountered \n",
    "#during numeric calculations in Python. This includes Zerodivision\n",
    "#Error and Floating point error. In addition, zero division error\n",
    "#is raised when you divide a numeric value by zero. When we run \n",
    "#this code, we will get a ZeroDivision error."
   ]
  },
  {
   "cell_type": "code",
   "execution_count": 7,
   "id": "888cd32c-61c0-486c-aba3-5f30efce5c8a",
   "metadata": {},
   "outputs": [],
   "source": [
    "#Q4. Why LookupError class is used? Explain with an example \n",
    "#KeyError and IndexError."
   ]
  },
  {
   "cell_type": "code",
   "execution_count": 8,
   "id": "b9e528b7-d897-4b4e-8a8e-a45c7df95c02",
   "metadata": {},
   "outputs": [],
   "source": [
    "#LookupError Exception is the Base class for errors raised when \n",
    "#something can't be found. The base class for the exceptions that\n",
    "#are raised when a key or index used on a mapping or sequence is \n",
    "#invalid: IndexError, KeyError. An IndexError is raised when a \n",
    "#sequence reference is out of range.\n",
    "\n",
    "#you have a list with three items and you try to access the fourth\n",
    "#item, you will get an IndexError."
   ]
  },
  {
   "cell_type": "code",
   "execution_count": 9,
   "id": "4210b324-8725-446a-aa56-50476135d324",
   "metadata": {},
   "outputs": [],
   "source": [
    "#Q5. Explain ImportError. What is ModuleNotFoundError?"
   ]
  },
  {
   "cell_type": "code",
   "execution_count": 10,
   "id": "c89a1a1b-9f26-4773-997e-afc7994ecfdc",
   "metadata": {},
   "outputs": [],
   "source": [
    "#In Python, ImportError occurs when the Python program tries to \n",
    "#import module which does not exist in the private table.\n",
    "\n",
    "#this error occurs when you're trying to access or use a module \n",
    "#that cannot be found."
   ]
  },
  {
   "cell_type": "code",
   "execution_count": 11,
   "id": "0b3d4685-6e12-462c-8cf6-82fa63743d80",
   "metadata": {},
   "outputs": [],
   "source": [
    "#Q6.List down some best practices for exception handling in python."
   ]
  },
  {
   "cell_type": "code",
   "execution_count": 12,
   "id": "cd0b0729-5845-4c61-87f3-88c08123a7ff",
   "metadata": {},
   "outputs": [],
   "source": [
    "# Handling Exceptions\n",
    "#First, the try clause (the statement(s) between the try and\n",
    "#except keywords) is executed.\n",
    "#If no exception occurs, the except clause is skipped and \n",
    "#execution of the try statement is finished.\n",
    "#If an exception occurs during execution of the try clause, the \n",
    "#rest of the clause is skipped."
   ]
  },
  {
   "cell_type": "code",
   "execution_count": null,
   "id": "f5f2a335-b60f-4f10-9b8e-b952c56e8a01",
   "metadata": {},
   "outputs": [],
   "source": []
  }
 ],
 "metadata": {
  "kernelspec": {
   "display_name": "Python 3 (ipykernel)",
   "language": "python",
   "name": "python3"
  },
  "language_info": {
   "codemirror_mode": {
    "name": "ipython",
    "version": 3
   },
   "file_extension": ".py",
   "mimetype": "text/x-python",
   "name": "python",
   "nbconvert_exporter": "python",
   "pygments_lexer": "ipython3",
   "version": "3.10.8"
  }
 },
 "nbformat": 4,
 "nbformat_minor": 5
}
